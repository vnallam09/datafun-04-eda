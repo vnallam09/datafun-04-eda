{
 "cells": [
  {
   "cell_type": "code",
   "execution_count": 4,
   "id": "5ff9112f",
   "metadata": {},
   "outputs": [],
   "source": [
    "# importing required packages from the library\n",
    "import pandas as pd\n",
    "import matplotlib as mp"
   ]
  },
  {
   "cell_type": "markdown",
   "id": "ef149f51",
   "metadata": {},
   "source": [
    "print(\"The libraries are imported\")"
   ]
  }
 ],
 "metadata": {
  "kernelspec": {
   "display_name": "Python 3",
   "language": "python",
   "name": "python3"
  },
  "language_info": {
   "codemirror_mode": {
    "name": "ipython",
    "version": 3
   },
   "file_extension": ".py",
   "mimetype": "text/x-python",
   "name": "python",
   "nbconvert_exporter": "python",
   "pygments_lexer": "ipython3",
   "version": "3.13.5"
  }
 },
 "nbformat": 4,
 "nbformat_minor": 5
}
